{
 "cells": [
  {
   "cell_type": "code",
   "id": "initial_id",
   "metadata": {
    "collapsed": true
   },
   "source": [
    "import pandas as pd\n",
    "\n",
    "# Prepare all the data that will be used\n",
    "_diagnoses_csv = '../data/zipped/DIAGNOSES_ICD.csv.gz'\n",
    "_notes_csv = '../data/zipped/NOTEEVENTS.csv.gz'\n",
    "_patient_csv = '../data/zipped/PATIENTS.csv.gz'\n",
    "_prescriptions_csv = '../data/zipped/PRESCRIPTIONS.csv.gz'\n",
    "_icd9_code = '31401' # (ADHD ICD-9 Code)"
   ],
   "outputs": [],
   "execution_count": null
  },
  {
   "metadata": {
    "ExecuteTime": {
     "end_time": "2025-03-17T21:12:03.937519Z",
     "start_time": "2025-03-17T21:11:27.693650Z"
    }
   },
   "cell_type": "code",
   "source": [
    "# Load Data\n",
    "diagnoses_icd_df = pd.read_csv(_diagnoses_csv, compression='gzip')\n",
    "noteevents_df = pd.read_csv(_notes_csv, compression=\"gzip\", low_memory=False)\n",
    "prescription_df = pd.read_csv(_prescriptions_csv, compression=\"gzip\", low_memory=False)\n",
    "patient_df = pd.read_csv(_patient_csv, compression='gzip')\n",
    "\n",
    "diagnoses_icd_df.columns = diagnoses_icd_df.columns.str.strip()\n",
    "diagnoses_icd_df.columns = diagnoses_icd_df.columns.str.lower()\n",
    "noteevents_df.columns = noteevents_df.columns.str.strip()\n",
    "noteevents_df.columns = noteevents_df.columns.str.lower()\n",
    "patient_df.columns = patient_df.columns.str.strip()\n",
    "patient_df.columns = patient_df.columns.str.lower()\n",
    "prescription_df.columns = prescription_df.columns.str.strip()\n",
    "prescription_df.columns = prescription_df.columns.str.lower()"
   ],
   "id": "36914f0a76be02a3",
   "outputs": [],
   "execution_count": 11
  },
  {
   "metadata": {
    "ExecuteTime": {
     "end_time": "2025-03-17T23:18:19.357823Z",
     "start_time": "2025-03-17T23:18:18.540330Z"
    }
   },
   "cell_type": "code",
   "source": [
    "# Filter by ADHD\n",
    "adhd_df = diagnoses_icd_df.loc[diagnoses_icd_df[\"icd9_code\"] == _icd9_code]\n",
    "\n",
    "# Combine patient with diagnosis, with prescription, and notes\n",
    "patients_with_adhd = pd.merge(adhd_df, patient_df, on=\"subject_id\")\n",
    "patients_with_prescription = pd.merge(patients_with_adhd, prescription_df, on=\"subject_id\")\n",
    "patients_with_adhd_notes = pd.merge(patients_with_adhd, noteevents_df, on=\"subject_id\")\n",
    "\n",
    "# Filter by hallucinations & OCD\n",
    "p_adhd_hallucinations = patients_with_adhd_notes[patients_with_adhd_notes[\"text\"].str.contains(\"hallucinations\", case=False)].drop_duplicates(subset=[\"subject_id\"])\n",
    "p_adhd_ocd = patients_with_adhd_notes[patients_with_adhd_notes[\"text\"].str.contains(\"ocd\", case=False)].drop_duplicates(subset=\"subject_id\")\n",
    "p_adhd_conditions = patients_with_adhd_notes[patients_with_adhd_notes[\"text\"].str.contains(\"hallucinations|ocd\", case=False)].drop_duplicates(subset=\"subject_id\")\n",
    "\n",
    "patients_with_prescription[\"hallucinations\"] = patients_with_prescription[\"subject_id\"].isin(p_adhd_hallucinations[\"subject_id\"])\n",
    "patients_with_prescription[\"ocd\"] = patients_with_prescription[\"subject_id\"].isin(p_adhd_ocd[\"subject_id\"])\n",
    "patients_with_prescription = patients_with_prescription.drop_duplicates(subset=\"subject_id\")\n",
    "\n",
    "print(f\"Patients: {len(patient_df)}\")\n",
    "print(f\"ADHD Patients: {len(patients_with_adhd)}\")\n",
    "print(f\"Hallucinations: {len(p_adhd_hallucinations)}\")\n",
    "print(f\"OCD: {len(p_adhd_ocd)}\")\n",
    "print(f\"Hallucinations & OCD: {len(p_adhd_conditions)}\")"
   ],
   "id": "5dbe56f1e3840c60",
   "outputs": [
    {
     "name": "stdout",
     "output_type": "stream",
     "text": [
      "Patients: 46520\n",
      "ADHD Patients: 141\n",
      "Hallucinations: 15\n",
      "OCD: 5\n",
      "Hallucinations & OCD: 19\n"
     ]
    }
   ],
   "execution_count": 15
  },
  {
   "metadata": {
    "ExecuteTime": {
     "end_time": "2025-03-17T23:18:20.638367Z",
     "start_time": "2025-03-17T23:18:20.633761Z"
    }
   },
   "cell_type": "code",
   "source": [
    "# Drop unneeded columns\n",
    "patients_with_prescription_tagged = patients_with_prescription.drop(columns=[\"subject_id\", \"row_id_x\", \"row_id_y\", \"hadm_id_x\", \"seq_num\", \"icd9_code\", \"dod_ssn\", \"expire_flag\",\n",
    "                                                                             \"row_id\", \"hadm_id_y\", \"dob\", \"dod\", \"dod_hosp\", \"startdate\", \"enddate\", \"gsn\", \"ndc\",\n",
    "                                                                             \"route\", \"form_unit_disp\", \"form_val_disp\", \"dose_unit_rx\", \"dose_val_rx\", \"prod_strength\",\n",
    "                                                                             \"formulary_drug_cd\", \"drug_name_poe\", \"drug_name_generic\", \"drug_type\", \"icustay_id\"])\n",
    "\n",
    "# Make gender boolean (Male = True, Female = False).\n",
    "patients_with_prescription_tagged[\"gender\"] = patients_with_prescription_tagged.apply(lambda row: row[\"gender\"] == \"M\", axis=1)\n",
    "patients_with_prescription_tagged[\"adhd_only\"] = patients_with_prescription_tagged.apply(lambda row: row[\"hallucinations\"] == False and row[\"ocd\"] == False, axis=1)"
   ],
   "id": "98dfef35dd814923",
   "outputs": [],
   "execution_count": 16
  },
  {
   "metadata": {
    "ExecuteTime": {
     "end_time": "2025-03-17T23:18:21.558637Z",
     "start_time": "2025-03-17T23:18:21.556447Z"
    }
   },
   "cell_type": "code",
   "source": "# patients_with_prescription_tagged[::] # Commented out to avoid printing sensitive data",
   "id": "f910933963695abf",
   "outputs": [],
   "execution_count": 17
  }
 ],
 "metadata": {
  "kernelspec": {
   "display_name": "Python 3",
   "language": "python",
   "name": "python3"
  },
  "language_info": {
   "codemirror_mode": {
    "name": "ipython",
    "version": 2
   },
   "file_extension": ".py",
   "mimetype": "text/x-python",
   "name": "python",
   "nbconvert_exporter": "python",
   "pygments_lexer": "ipython2",
   "version": "2.7.6"
  }
 },
 "nbformat": 4,
 "nbformat_minor": 5
}
