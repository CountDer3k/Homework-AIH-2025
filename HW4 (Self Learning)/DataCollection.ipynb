{
 "cells": [
  {
   "cell_type": "code",
   "id": "initial_id",
   "metadata": {
    "collapsed": true,
    "ExecuteTime": {
     "end_time": "2025-03-17T17:05:40.067637Z",
     "start_time": "2025-03-17T17:05:40.065103Z"
    }
   },
   "source": [
    "import pandas as pd\n",
    "\n",
    "# Prepare all the data that will be used\n",
    "_diagnoses_csv = '../data/zipped/DIAGNOSES_ICD.csv.gz'\n",
    "_notes_csv = '../data/zipped/NOTEEVENTS.csv.gz'\n",
    "_patient_csv = '../data/zipped/PATIENTS.csv.gz'\n",
    "_prescriptions_csv = '../data/zipped/PRESCRIPTIONS.csv.gz'\n",
    "_icd9_code = '31401' # (ADHD ICD-9 Code)"
   ],
   "outputs": [],
   "execution_count": 1
  },
  {
   "metadata": {
    "ExecuteTime": {
     "end_time": "2025-03-17T17:06:15.457781Z",
     "start_time": "2025-03-17T17:05:40.073784Z"
    }
   },
   "cell_type": "code",
   "source": [
    "# Load Data\n",
    "diagnoses_icd_df = pd.read_csv(_diagnoses_csv, compression='gzip')\n",
    "noteevents_df = pd.read_csv(_notes_csv, compression=\"gzip\", low_memory=False)\n",
    "prescription_df = pd.read_csv(_prescriptions_csv, compression=\"gzip\", low_memory=False)\n",
    "patient_df = pd.read_csv(_patient_csv, compression='gzip')\n",
    "\n",
    "diagnoses_icd_df.columns = diagnoses_icd_df.columns.str.strip()\n",
    "diagnoses_icd_df.columns = diagnoses_icd_df.columns.str.lower()\n",
    "noteevents_df.columns = noteevents_df.columns.str.strip()\n",
    "noteevents_df.columns = noteevents_df.columns.str.lower()\n",
    "patient_df.columns = patient_df.columns.str.strip()\n",
    "patient_df.columns = patient_df.columns.str.lower()\n",
    "prescription_df.columns = prescription_df.columns.str.strip()\n",
    "prescription_df.columns = prescription_df.columns.str.lower()"
   ],
   "id": "36914f0a76be02a3",
   "outputs": [],
   "execution_count": 2
  },
  {
   "metadata": {
    "ExecuteTime": {
     "end_time": "2025-03-17T17:06:16.248855Z",
     "start_time": "2025-03-17T17:06:15.492287Z"
    }
   },
   "cell_type": "code",
   "source": [
    "# Filter by ADHD\n",
    "adhd_df = diagnoses_icd_df.loc[diagnoses_icd_df[\"icd9_code\"] == _icd9_code]\n",
    "\n",
    "# Combine patient with diagnosis, with prescription, and notes\n",
    "patients_with_adhd = pd.merge(adhd_df, patient_df, on=\"subject_id\")\n",
    "patients_with_prescription = pd.merge(patients_with_adhd, prescription_df, on=\"subject_id\")\n",
    "patients_with_adhd_notes = pd.merge(patients_with_adhd, noteevents_df, on=\"subject_id\")\n",
    "\n",
    "# Filter by hallucinations & OCD\n",
    "p_adhd_hallucinations = patients_with_adhd_notes[patients_with_adhd_notes[\"text\"].str.contains(\"hallucinations\", case=False)].drop_duplicates(subset=[\"subject_id\"])\n",
    "p_adhd_ocd = patients_with_adhd_notes[patients_with_adhd_notes[\"text\"].str.contains(\"ocd\", case=False)].drop_duplicates(subset=\"subject_id\")\n",
    "p_adhd_conditions = patients_with_adhd_notes[patients_with_adhd_notes[\"text\"].str.contains(\"hallucinations|ocd\", case=False)].drop_duplicates(subset=\"subject_id\")\n",
    "\n",
    "patients_with_prescription[\"hallucinations\"] = patients_with_prescription[\"subject_id\"].isin(p_adhd_hallucinations[\"subject_id\"])\n",
    "patients_with_prescription[\"ocd\"] = patients_with_prescription[\"subject_id\"].isin(p_adhd_ocd[\"subject_id\"])\n",
    "patients_with_prescription = patients_with_prescription.drop_duplicates(subset=\"subject_id\")\n",
    "\n",
    "print(f\"Hallucinations: {len(p_adhd_hallucinations)}\")\n",
    "print(f\"OCD: {len(p_adhd_ocd)}\")\n",
    "print(f\"Hallucinations & OCD: {len(p_adhd_conditions)}\")"
   ],
   "id": "5dbe56f1e3840c60",
   "outputs": [
    {
     "name": "stdout",
     "output_type": "stream",
     "text": [
      "Hallucinations: 15\n",
      "OCD: 5\n",
      "Hallucinations & OCD: 19\n"
     ]
    }
   ],
   "execution_count": 3
  },
  {
   "metadata": {
    "ExecuteTime": {
     "end_time": "2025-03-17T17:48:40.096009Z",
     "start_time": "2025-03-17T17:48:40.089243Z"
    }
   },
   "cell_type": "code",
   "source": [
    "# Drop unneeded columns\n",
    "patients_with_prescription_tagged = patients_with_prescription.drop(columns=[\"row_id_x\", \"row_id_y\", \"hadm_id_x\", \"seq_num\", \"icd9_code\", \"dod_ssn\", \"expire_flag\", \"row_id\", \"hadm_id_y\", \"dob\", \"dod\", \"dod_hosp\", \"startdate\", \"enddate\", \"gsn\", \"ndc\", \"route\", \"form_unit_disp\", \"form_val_disp\", \"dose_unit_rx\", \"dose_val_rx\", \"prod_strength\", \"formulary_drug_cd\", \"drug_name_poe\", \"drug_name_generic\", \"drug_type\", \"icustay_id\"])\n",
    "\n",
    "# Make gender boolean (Male = True, Female = False).\n",
    "patients_with_prescription_tagged[\"gender\"] = patients_with_prescription_tagged.apply(lambda row: row[\"gender\"] == \"M\", axis=1)\n",
    "patients_with_prescription_tagged[\"adhd_only\"] = patients_with_prescription_tagged.apply(lambda row: row[\"hallucinations\"] == False and row[\"ocd\"] == False, axis=1)\n",
    "\n",
    "patients_with_prescription_tagged[::]"
   ],
   "id": "98dfef35dd814923",
   "outputs": [
    {
     "data": {
      "text/plain": [
       "       subject_id  gender                       drug  hallucinations    ocd  \\\n",
       "0             303    True              Hydromorphone           False  False   \n",
       "48            715   False            DiphenhydrAMINE           False   True   \n",
       "99           1590    True        Morphine Sulfate IR           False  False   \n",
       "216          2945   False                 Olanzapine            True   True   \n",
       "238          2170    True         Potassium Chloride           False  False   \n",
       "...           ...     ...                        ...             ...    ...   \n",
       "18141       94075    True                 Famotidine           False  False   \n",
       "18176       97974   False  Ritonavir (Oral Solution)           False  False   \n",
       "18321       96463    True                   Propofol            True  False   \n",
       "18339       98177    True       0.9% Sodium Chloride           False  False   \n",
       "18361       96763   False         Potassium Chloride           False  False   \n",
       "\n",
       "       adhd_only  \n",
       "0           True  \n",
       "48         False  \n",
       "99          True  \n",
       "216        False  \n",
       "238         True  \n",
       "...          ...  \n",
       "18141       True  \n",
       "18176       True  \n",
       "18321      False  \n",
       "18339       True  \n",
       "18361       True  \n",
       "\n",
       "[120 rows x 6 columns]"
      ],
      "text/html": [
       "<div>\n",
       "<style scoped>\n",
       "    .dataframe tbody tr th:only-of-type {\n",
       "        vertical-align: middle;\n",
       "    }\n",
       "\n",
       "    .dataframe tbody tr th {\n",
       "        vertical-align: top;\n",
       "    }\n",
       "\n",
       "    .dataframe thead th {\n",
       "        text-align: right;\n",
       "    }\n",
       "</style>\n",
       "<table border=\"1\" class=\"dataframe\">\n",
       "  <thead>\n",
       "    <tr style=\"text-align: right;\">\n",
       "      <th></th>\n",
       "      <th>subject_id</th>\n",
       "      <th>gender</th>\n",
       "      <th>drug</th>\n",
       "      <th>hallucinations</th>\n",
       "      <th>ocd</th>\n",
       "      <th>adhd_only</th>\n",
       "    </tr>\n",
       "  </thead>\n",
       "  <tbody>\n",
       "    <tr>\n",
       "      <th>0</th>\n",
       "      <td>303</td>\n",
       "      <td>True</td>\n",
       "      <td>Hydromorphone</td>\n",
       "      <td>False</td>\n",
       "      <td>False</td>\n",
       "      <td>True</td>\n",
       "    </tr>\n",
       "    <tr>\n",
       "      <th>48</th>\n",
       "      <td>715</td>\n",
       "      <td>False</td>\n",
       "      <td>DiphenhydrAMINE</td>\n",
       "      <td>False</td>\n",
       "      <td>True</td>\n",
       "      <td>False</td>\n",
       "    </tr>\n",
       "    <tr>\n",
       "      <th>99</th>\n",
       "      <td>1590</td>\n",
       "      <td>True</td>\n",
       "      <td>Morphine Sulfate IR</td>\n",
       "      <td>False</td>\n",
       "      <td>False</td>\n",
       "      <td>True</td>\n",
       "    </tr>\n",
       "    <tr>\n",
       "      <th>216</th>\n",
       "      <td>2945</td>\n",
       "      <td>False</td>\n",
       "      <td>Olanzapine</td>\n",
       "      <td>True</td>\n",
       "      <td>True</td>\n",
       "      <td>False</td>\n",
       "    </tr>\n",
       "    <tr>\n",
       "      <th>238</th>\n",
       "      <td>2170</td>\n",
       "      <td>True</td>\n",
       "      <td>Potassium Chloride</td>\n",
       "      <td>False</td>\n",
       "      <td>False</td>\n",
       "      <td>True</td>\n",
       "    </tr>\n",
       "    <tr>\n",
       "      <th>...</th>\n",
       "      <td>...</td>\n",
       "      <td>...</td>\n",
       "      <td>...</td>\n",
       "      <td>...</td>\n",
       "      <td>...</td>\n",
       "      <td>...</td>\n",
       "    </tr>\n",
       "    <tr>\n",
       "      <th>18141</th>\n",
       "      <td>94075</td>\n",
       "      <td>True</td>\n",
       "      <td>Famotidine</td>\n",
       "      <td>False</td>\n",
       "      <td>False</td>\n",
       "      <td>True</td>\n",
       "    </tr>\n",
       "    <tr>\n",
       "      <th>18176</th>\n",
       "      <td>97974</td>\n",
       "      <td>False</td>\n",
       "      <td>Ritonavir (Oral Solution)</td>\n",
       "      <td>False</td>\n",
       "      <td>False</td>\n",
       "      <td>True</td>\n",
       "    </tr>\n",
       "    <tr>\n",
       "      <th>18321</th>\n",
       "      <td>96463</td>\n",
       "      <td>True</td>\n",
       "      <td>Propofol</td>\n",
       "      <td>True</td>\n",
       "      <td>False</td>\n",
       "      <td>False</td>\n",
       "    </tr>\n",
       "    <tr>\n",
       "      <th>18339</th>\n",
       "      <td>98177</td>\n",
       "      <td>True</td>\n",
       "      <td>0.9% Sodium Chloride</td>\n",
       "      <td>False</td>\n",
       "      <td>False</td>\n",
       "      <td>True</td>\n",
       "    </tr>\n",
       "    <tr>\n",
       "      <th>18361</th>\n",
       "      <td>96763</td>\n",
       "      <td>False</td>\n",
       "      <td>Potassium Chloride</td>\n",
       "      <td>False</td>\n",
       "      <td>False</td>\n",
       "      <td>True</td>\n",
       "    </tr>\n",
       "  </tbody>\n",
       "</table>\n",
       "<p>120 rows × 6 columns</p>\n",
       "</div>"
      ]
     },
     "execution_count": 6,
     "metadata": {},
     "output_type": "execute_result"
    }
   ],
   "execution_count": 6
  },
  {
   "metadata": {},
   "cell_type": "code",
   "outputs": [],
   "execution_count": null,
   "source": "",
   "id": "f910933963695abf"
  }
 ],
 "metadata": {
  "kernelspec": {
   "display_name": "Python 3",
   "language": "python",
   "name": "python3"
  },
  "language_info": {
   "codemirror_mode": {
    "name": "ipython",
    "version": 2
   },
   "file_extension": ".py",
   "mimetype": "text/x-python",
   "name": "python",
   "nbconvert_exporter": "python",
   "pygments_lexer": "ipython2",
   "version": "2.7.6"
  }
 },
 "nbformat": 4,
 "nbformat_minor": 5
}
