{
 "cells": [
  {
   "cell_type": "code",
   "id": "initial_id",
   "metadata": {
    "collapsed": true,
    "ExecuteTime": {
     "end_time": "2025-04-25T06:28:26.732070Z",
     "start_time": "2025-04-25T06:28:26.728476Z"
    }
   },
   "source": [
    "import os\n",
    "\n",
    "import torch\n",
    "import torch.nn as nn\n",
    "from torch.utils.data import DataLoader\n",
    "from torchvision import transforms\n",
    "from transformers import ViTForImageClassification\n",
    "import timm\n",
    "import json\n",
    "from monai.networks.nets import ViT"
   ],
   "outputs": [],
   "execution_count": 14
  },
  {
   "metadata": {
    "ExecuteTime": {
     "end_time": "2025-04-25T06:28:28.176319Z",
     "start_time": "2025-04-25T06:28:28.173807Z"
    }
   },
   "cell_type": "code",
   "source": [
    "# Configurations\n",
    "use_monai = True\n",
    "_num_classes = 4\n",
    "_batch_size = 16\n",
    "_epochs = 5\n",
    "_lr = 3e-5"
   ],
   "id": "12a24d1c3c0048aa",
   "outputs": [],
   "execution_count": 15
  },
  {
   "metadata": {
    "ExecuteTime": {
     "end_time": "2025-04-25T06:41:36.568374Z",
     "start_time": "2025-04-25T06:41:36.519671Z"
    }
   },
   "cell_type": "code",
   "source": [
    "import random\n",
    "\n",
    "# Split the dataset into train, val, and test sets (4 directories, one for each class. Combine all directories after splitting)\n",
    "train, val, test = [], [], []\n",
    "path = \"data/EDC/\"\n",
    "\n",
    "\n",
    "for dir in os.listdir(path):\n",
    "    # Skip non directories\n",
    "    if not os.path.isdir(os.path.join(path, dir)):\n",
    "        continue\n",
    "    dir_path = os.path.join(path, dir)\n",
    "    dir_json_path = os.path.join(dir_path, \"data.json\")\n",
    "    data = json.load(open(dir_json_path, \"r\"))\n",
    "\n",
    "    # Randomly split the data into train, val, and test sets (70% train, 15% val, 15% test)\n",
    "    shuffled_data = data.copy()\n",
    "    random.shuffle(shuffled_data)\n",
    "\n",
    "\n",
    "    train_size = int(0.7 * len(shuffled_data))\n",
    "    val_size = int(0.15 * len(shuffled_data))\n",
    "    test_size = len(shuffled_data) - train_size - val_size\n",
    "    train_data = shuffled_data[:train_size]\n",
    "    val_data = shuffled_data[train_size:train_size + val_size]\n",
    "    test_data = shuffled_data[train_size + val_size:]\n",
    "    train.append(train_data)\n",
    "    val.append(val_data)\n",
    "    test.append(test_data)\n",
    "    # Save the split data into separate JSON files\n",
    "    with open(os.path.join(path, \"train.json\"), \"w\") as f:\n",
    "        json.dump(train_data, f)\n",
    "    with open(os.path.join(path, \"val.json\"), \"w\") as f:\n",
    "        json.dump(val_data, f)\n",
    "    with open(os.path.join(path, \"test.json\"), \"w\") as f:\n",
    "        json.dump(test_data, f)\n",
    "\n",
    "# Print length of each set\n",
    "print(f\"Train set size: {len(train_data)}\")\n",
    "print(f\"Validation set size: {len(val_data)}\")\n",
    "print(f\"Test set size: {len(test_data)}\")\n"
   ],
   "id": "63b8c6317a3e14bb",
   "outputs": [
    {
     "name": "stdout",
     "output_type": "stream",
     "text": [
      "Train set size: 751\n",
      "Validation set size: 161\n",
      "Test set size: 162\n"
     ]
    }
   ],
   "execution_count": 27
  },
  {
   "metadata": {
    "ExecuteTime": {
     "end_time": "2025-04-25T05:40:42.401557Z",
     "start_time": "2025-04-25T05:40:41.424105Z"
    }
   },
   "cell_type": "code",
   "source": [
    "from PIL import Image\n",
    "\n",
    "# Load the dataset\n",
    "train_json = json.load(open(\"data/EDC/train.json\", \"r\"))\n",
    "val_json = json.load(open(\"data/EDC/val.json\", \"r\"))\n",
    "test_json = json.load(open(\"data/EDC/test.json\", \"r\"))\n",
    "\n",
    "# Use DataLoader to load the dataset (json includes the first value as the path to the image and the second value as the label)\n",
    "class CustomDataset(torch.utils.data.Dataset):\n",
    "    def __init__(self, json_data, transform=None):\n",
    "        self.data = json_data\n",
    "        self.transform = transform\n",
    "\n",
    "    def __len__(self):\n",
    "        return len(self.data)\n",
    "\n",
    "    def __getitem__(self, idx):\n",
    "        img_path, label = self.data[idx]\n",
    "        image = Image.open(img_path).convert(\"RGB\")\n",
    "\n",
    "        if self.transform:\n",
    "            image = self.transform(image)\n",
    "\n",
    "        return image, label\n",
    "\n",
    "\n",
    "\n",
    "# get image\n",
    "\n",
    "train_loader = DataLoader(train_set_path, batch_size=_batch_size, shuffle=True)\n",
    "val_loader = DataLoader(test_set_path, batch_size=_batch_size)\n",
    "\n",
    "model_name = 'monai' if use_monai else 'timm'\n",
    "\n",
    "# Select model\n",
    "if use_monai:\n",
    "\n",
    "    model = ViT(\n",
    "        in_channels=3,\n",
    "        img_size=(224, 224),\n",
    "        patch_size=(16, 16),\n",
    "        pos_embed='conv',\n",
    "        classification=True,\n",
    "        num_classes=_num_classes,\n",
    "        # dim=768,\n",
    "        # depth=12,\n",
    "        # heads=12,\n",
    "        # mlp_dim=3072,\n",
    "        # dropout=0.1,\n",
    "    )\n",
    "else:\n",
    "    model = timm.create_model('vit_base_patch16_224', pretrained=True)\n",
    "    model.head = nn.Linear(model.head.in_features, _num_classes)\n",
    "\n",
    "    # model = ViTForImageClassification.from_pretrained(\"google/vit-base-patch16-224-in21k\", num_labels=_num_classes)"
   ],
   "id": "59fe549c20edc2db",
   "outputs": [],
   "execution_count": 12
  },
  {
   "metadata": {
    "ExecuteTime": {
     "end_time": "2025-04-25T05:40:46.732548Z",
     "start_time": "2025-04-25T05:40:46.373677Z"
    }
   },
   "cell_type": "code",
   "source": [
    "# ==== LOSS, OPTIMIZER, SCHEDULER ====\n",
    "criterion = nn.CrossEntropyLoss()\n",
    "optimizer = torch.optim.AdamW(model.parameters(), lr=_lr, weight_decay=1e-4)\n",
    "scheduler = torch.optim.lr_scheduler.CosineAnnealingLR(optimizer, T_max=_epochs)\n",
    "\n",
    "# ==== TRAINING LOOP ====\n",
    "device = \"cuda\" if torch.cuda.is_available() else \"mps\" if torch.backends.mps.is_available() else \"cpu\"\n",
    "model.to(device)\n",
    "\n",
    "for epoch in range(_epochs):\n",
    "    model.train()\n",
    "    for images, labels in train_loader:\n",
    "        images, labels = images.to(device), labels.to(device)\n",
    "        optimizer.zero_grad()\n",
    "        outputs = model(images)\n",
    "        loss = criterion(outputs, labels)\n",
    "        loss.backward()\n",
    "        optimizer.step()\n",
    "\n",
    "    scheduler.step()\n",
    "    # Add validation step here\n",
    "    print(f\"Epoch {epoch+1}/{_epochs} completed.\")\n",
    "\n",
    "    # Print loss and accuracy\n",
    "    print(f\"Loss: {loss.item():.4f}\")\n",
    "    # Add accuracy calculation\n",
    "    correct = 0\n",
    "    total = 0\n",
    "    with torch.no_grad():\n",
    "        for images, labels in val_loader:\n",
    "            images, labels = images.to(device), labels.to(device)\n",
    "            outputs = model(images)\n",
    "            _, predicted = torch.max(outputs.data, 1)\n",
    "            total += labels.size(0)\n",
    "            correct += (predicted == labels).sum().item()\n",
    "    accuracy = 100 * correct / total\n",
    "    print(f\"Accuracy: {accuracy:.2f}%\")\n",
    "    # Save the model if it is the best so far\n",
    "    if epoch == 0 or accuracy > best_accuracy:\n",
    "        best_accuracy = accuracy\n",
    "        torch.save(model.state_dict(), f'{model_name}_best_model_({accuracy:.2f}).pth')\n",
    "        print(f\"Model saved with accuracy: {best_accuracy:.2f}%\")\n",
    "    else:\n",
    "        print(f\"Model not improved. Current best accuracy: {best_accuracy:.2f}%\")\n",
    "\n",
    "\n",
    "# ==== SAVE MODEL ====\n",
    "torch.save(model.state_dict(), 'best_vit_model.pth')"
   ],
   "id": "3f40de1fdbc0ac6d",
   "outputs": [
    {
     "ename": "ValueError",
     "evalue": "too many values to unpack (expected 2)",
     "output_type": "error",
     "traceback": [
      "\u001B[0;31m---------------------------------------------------------------------------\u001B[0m",
      "\u001B[0;31mValueError\u001B[0m                                Traceback (most recent call last)",
      "Cell \u001B[0;32mIn[13], line 12\u001B[0m\n\u001B[1;32m     10\u001B[0m \u001B[38;5;28;01mfor\u001B[39;00m epoch \u001B[38;5;129;01min\u001B[39;00m \u001B[38;5;28mrange\u001B[39m(_epochs):\n\u001B[1;32m     11\u001B[0m     model\u001B[38;5;241m.\u001B[39mtrain()\n\u001B[0;32m---> 12\u001B[0m     \u001B[38;5;28;01mfor\u001B[39;00m images, labels \u001B[38;5;129;01min\u001B[39;00m train_loader:\n\u001B[1;32m     13\u001B[0m         images, labels \u001B[38;5;241m=\u001B[39m images\u001B[38;5;241m.\u001B[39mto(device), labels\u001B[38;5;241m.\u001B[39mto(device)\n\u001B[1;32m     14\u001B[0m         optimizer\u001B[38;5;241m.\u001B[39mzero_grad()\n",
      "\u001B[0;31mValueError\u001B[0m: too many values to unpack (expected 2)"
     ]
    }
   ],
   "execution_count": 13
  }
 ],
 "metadata": {
  "kernelspec": {
   "display_name": "Python 3",
   "language": "python",
   "name": "python3"
  },
  "language_info": {
   "codemirror_mode": {
    "name": "ipython",
    "version": 2
   },
   "file_extension": ".py",
   "mimetype": "text/x-python",
   "name": "python",
   "nbconvert_exporter": "python",
   "pygments_lexer": "ipython2",
   "version": "2.7.6"
  }
 },
 "nbformat": 4,
 "nbformat_minor": 5
}
