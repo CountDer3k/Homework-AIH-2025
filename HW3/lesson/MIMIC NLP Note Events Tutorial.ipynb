{
 "cells": [
  {
   "cell_type": "markdown",
   "metadata": {
    "id": "MYiS8P9dCr69"
   },
   "source": [
    "# **Start by uploading the DIAGNOSES_ICD file and getting all patients for ICD_CODE=430**"
   ]
  },
  {
   "cell_type": "code",
   "metadata": {
    "id": "unY4fcmc8ktW",
    "outputId": "22faf262-1d87-4749-bcc1-f15f9bb83a6c",
    "colab": {
     "base_uri": "https://localhost:8080/",
     "height": 39
    },
    "ExecuteTime": {
     "end_time": "2025-03-03T23:20:52.521766Z",
     "start_time": "2025-03-03T23:20:50.735211Z"
    }
   },
   "source": [
    "import pandas as pd\n",
    "#from google.colab import files\n",
    "\n",
    "_discharge_summary_csv = 'ICD9-V4511_Patients_DischargeSummary.csv.gz'\n",
    "_diagnoses_csv = '../data/zipped/DIAGNOSES_ICD.csv.gz'\n",
    "_notes_csv = '../data/zipped/NOTEEVENTS.csv.gz'\n",
    "_admission_csv = '../data/zipped/ADMISSIONS.csv.gz'\n",
    "_patient_csv = '../data/zipped/PATIENTS.csv.gz'\n",
    "_icd9_code = '31401' #V4511\n",
    "#d1 = files.upload()\n",
    "\n"
   ],
   "outputs": [],
   "execution_count": 1
  },
  {
   "metadata": {},
   "cell_type": "code",
   "source": [
    "# The uploaded file is 'DIAGNOSES_ICD.csv.gz', so use this name in pd.read_csv\n",
    "# and specify the compression as 'gzip'\n",
    "diagnoses_icd_df = pd.read_csv(_diagnoses_csv, compression='gzip')\n",
    "\n",
    "diagnoses_icd_df.info()\n",
    "diagnoses_icd_df.iloc[0]\n",
    "print(len(diagnoses_icd_df))"
   ],
   "outputs": [],
   "execution_count": null
  },
  {
   "cell_type": "code",
   "metadata": {
    "colab": {
     "base_uri": "https://localhost:8080/"
    },
    "id": "vEOWAkwbwmDS",
    "outputId": "52fd1ba7-99bb-4e5c-b7fe-7a207a80c1b3",
    "ExecuteTime": {
     "end_time": "2025-02-24T18:40:54.423033Z",
     "start_time": "2025-02-24T18:40:54.397623Z"
    }
   },
   "source": [
    "# **Step 2: Extract SUBJECT_IDs for ICD-9 Code 'V4511'**\n",
    "if diagnoses_icd_df is not None:\n",
    "    # Ensure column names match exactly (fix case issues)\n",
    "    diagnoses_icd_df.columns = diagnoses_icd_df.columns.str.upper()\n",
    "\n",
    "    # **Vectorized Filtering (MUCH Faster than Loops)**\n",
    "    filtered_df = diagnoses_icd_df.loc[diagnoses_icd_df[\"ICD9_CODE\"] == _icd9_code]\n",
    "\n",
    "    # Extract SUBJECT_ID and HADM_ID as lists\n",
    "    arr_subject_id = filtered_df[\"SUBJECT_ID\"].tolist()\n",
    "    arr_hadm_id = filtered_df[\"HADM_ID\"].tolist()\n",
    "\n",
    "    # **Step 3: Print Results**\n",
    "    print(f\"✅ Found {len(arr_subject_id)} records for ICD-9 Code '{_icd9_code}'.\")\n",
    "    print(\"📌 SUBJECT_IDs:\", arr_subject_id[:10])  # Show only first 10 IDs for readability\n"
   ],
   "outputs": [
    {
     "name": "stdout",
     "output_type": "stream",
     "text": [
      "✅ Found 141 records for ICD-9 Code '31401'.\n",
      "📌 SUBJECT_IDs: [303, 715, 1590, 2945, 2170, 4966, 4966, 6374, 5571, 6391]\n"
     ]
    }
   ],
   "execution_count": 61
  },
  {
   "cell_type": "code",
   "metadata": {
    "colab": {
     "base_uri": "https://localhost:8080/"
    },
    "id": "-iSyHrPd80hM",
    "outputId": "76803c68-4f25-4c3d-a3d1-459e1c496132",
    "ExecuteTime": {
     "end_time": "2025-02-24T18:43:14.721180Z",
     "start_time": "2025-02-24T18:43:14.695257Z"
    }
   },
   "source": [
    "    # Ensure 'ICD9_CODE' exists in the dataset\n",
    "    if \"ICD9_CODE\" in diagnoses_icd_df.columns and \"SUBJECT_ID\" in diagnoses_icd_df.columns and \"HADM_ID\" in diagnoses_icd_df.columns:\n",
    "        # **Vectorized Filtering (MUCH Faster)**\n",
    "        filtered_df = diagnoses_icd_df[diagnoses_icd_df[\"ICD9_CODE\"] == _icd9_code]\n",
    "\n",
    "        # Extract SUBJECT_ID and HADM_ID as lists\n",
    "        arr_subject_id = filtered_df[\"SUBJECT_ID\"].tolist()\n",
    "        arr_hadm_id = filtered_df[\"HADM_ID\"].tolist()\n",
    "\n",
    "        # **Step 3: Print Results**\n",
    "        print(f\"✅ Found {len(arr_subject_id)} records for ICD-9 Code '{_icd9_code}'.\")\n",
    "        print(\"📌 First 10 SUBJECT_IDs:\", arr_subject_id[:10])  # Show only first 10 IDs for readability\n",
    "    else:\n",
    "        print(\"❌ Error: One or more required columns ('ICD9_CODE', 'SUBJECT_ID', 'HADM_ID') are missing in the dataset.\")"
   ],
   "outputs": [
    {
     "name": "stdout",
     "output_type": "stream",
     "text": [
      "✅ Found 141 records for ICD-9 Code '31401'.\n",
      "📌 First 10 SUBJECT_IDs: [303, 715, 1590, 2945, 2170, 4966, 4966, 6374, 5571, 6391]\n"
     ]
    }
   ],
   "execution_count": 62
  },
  {
   "cell_type": "code",
   "metadata": {
    "colab": {
     "base_uri": "https://localhost:8080/"
    },
    "id": "jwL7lKCa9m6r",
    "outputId": "e1c9c78c-84b3-4776-abb1-4283d9d67916",
    "ExecuteTime": {
     "end_time": "2025-02-24T18:43:21.081668Z",
     "start_time": "2025-02-24T18:43:21.076167Z"
    }
   },
   "source": [
    "import pandas as pd\n",
    "\n",
    "# Sample DataFrame (replace this with your actual DataFrame)\n",
    "# df = pd.read_csv(\"your_file.csv\")  # Uncomment if loading from a CSV file\n",
    "\n",
    "# 1. Check if DataFrame is empty\n",
    "if diagnoses_icd_df.empty:\n",
    "    print(\"The DataFrame is empty. Please check your data source.\")\n",
    "else:\n",
    "    print(f\"DataFrame shape: {diagnoses_icd_df.shape}\")\n",
    "\n",
    "# 2. Print all column names to see if 'subject_id' exists\n",
    "print(\"Column Names:\", diagnoses_icd_df.columns.tolist())\n",
    "\n",
    "# 3. Check for typos, hidden spaces, or similar column names\n",
    "similar_columns = [col for col in diagnoses_icd_df.columns if 'subject' in col.lower()]\n",
    "print(\"Similar columns found:\", similar_columns)\n",
    "\n",
    "# 4. Strip spaces and rename columns if needed\n",
    "diagnoses_icd_df.columns = diagnoses_icd_df.columns.str.strip()\n",
    "\n",
    "# 5. Convert all column names to lowercase for consistency (optional)\n",
    "diagnoses_icd_df.columns = diagnoses_icd_df.columns.str.lower()\n",
    "\n",
    "# 6. Try accessing 'subject_id' safely\n",
    "column_name = 'subject_id'\n",
    "if column_name in diagnoses_icd_df.columns:\n",
    "    subject_id_values = diagnoses_icd_df[column_name]\n",
    "    print(f\"Successfully accessed '{column_name}' column.\")\n",
    "else:\n",
    "    print(f\"Column '{column_name}' not found. Available columns: {diagnoses_icd_df.columns.tolist()}\")\n",
    "\n",
    "# 7. Alternative safe access using .get() to prevent KeyError\n",
    "subject_id_values = diagnoses_icd_df.get(column_name, \"Column Not Found\")\n",
    "print(subject_id_values)\n"
   ],
   "outputs": [
    {
     "name": "stdout",
     "output_type": "stream",
     "text": [
      "DataFrame shape: (651047, 5)\n",
      "Column Names: ['ROW_ID', 'SUBJECT_ID', 'HADM_ID', 'SEQ_NUM', 'ICD9_CODE']\n",
      "Similar columns found: ['SUBJECT_ID']\n",
      "Successfully accessed 'subject_id' column.\n",
      "0           109\n",
      "1           109\n",
      "2           109\n",
      "3           109\n",
      "4           109\n",
      "          ...  \n",
      "651042    97503\n",
      "651043    97503\n",
      "651044    97503\n",
      "651045    97503\n",
      "651046    97503\n",
      "Name: subject_id, Length: 651047, dtype: int64\n"
     ]
    }
   ],
   "execution_count": 63
  },
  {
   "cell_type": "code",
   "metadata": {
    "colab": {
     "base_uri": "https://localhost:8080/"
    },
    "id": "19W27Nuv9vKi",
    "outputId": "5ff227d6-de56-46fd-ccdf-a66c7d0de76d",
    "ExecuteTime": {
     "end_time": "2025-02-24T18:43:26.302883Z",
     "start_time": "2025-02-24T18:43:26.297431Z"
    }
   },
   "source": [
    "import pandas as pd\n",
    "\n",
    "# Sample DataFrame (replace this with your actual DataFrame)\n",
    "# df = pd.read_csv(\"your_file.csv\")  # Uncomment if loading from a CSV file\n",
    "# Define df as your diagnoses_icd_df DataFrame\n",
    "df = diagnoses_icd_df\n",
    "\n",
    "# 1. Check if DataFrame is empty\n",
    "if df.empty:\n",
    "    print(\"The DataFrame is empty. Please check your data source.\")\n",
    "else:\n",
    "    print(f\"DataFrame shape: {df.shape}\")\n",
    "\n",
    "# 2. Print all column names to see if 'subject_id' exists\n",
    "print(\"Column Names:\", df.columns.tolist())\n",
    "\n",
    "# 3. Check for typos, hidden spaces, or similar column names\n",
    "similar_columns = [col for col in df.columns if 'subject' in col.lower()]\n",
    "print(\"Similar columns found:\", similar_columns)\n",
    "\n",
    "# 4. Strip spaces and rename columns if needed\n",
    "df.columns = df.columns.str.strip()\n",
    "\n",
    "# 5. Convert all column names to lowercase for consistency (optional)\n",
    "df.columns = df.columns.str.lower()\n",
    "\n",
    "# 6. Try accessing 'subject_id' safely\n",
    "column_name = 'subject_id'\n",
    "if column_name in df.columns:\n",
    "    subject_id_values = df[column_name]\n",
    "    print(f\"Successfully accessed '{column_name}' column.\")\n",
    "else:\n",
    "    print(f\"Column '{column_name}' not found. Available columns: {df.columns.tolist()}\")\n",
    "\n",
    "# 7. Alternative safe access using .get() to prevent KeyError\n",
    "subject_id_values = df.get(column_name, \"Column Not Found\")\n",
    "print(subject_id_values)"
   ],
   "outputs": [
    {
     "name": "stdout",
     "output_type": "stream",
     "text": [
      "DataFrame shape: (651047, 5)\n",
      "Column Names: ['row_id', 'subject_id', 'hadm_id', 'seq_num', 'icd9_code']\n",
      "Similar columns found: ['subject_id']\n",
      "Successfully accessed 'subject_id' column.\n",
      "0           109\n",
      "1           109\n",
      "2           109\n",
      "3           109\n",
      "4           109\n",
      "          ...  \n",
      "651042    97503\n",
      "651043    97503\n",
      "651044    97503\n",
      "651045    97503\n",
      "651046    97503\n",
      "Name: subject_id, Length: 651047, dtype: int64\n"
     ]
    }
   ],
   "execution_count": 64
  },
  {
   "cell_type": "markdown",
   "metadata": {
    "id": "re5rKy4pFUE8"
   },
   "source": [
    "# **You can use one of the following ways to upload the NOTEEVENTS or any file in colab**"
   ]
  },
  {
   "cell_type": "markdown",
   "metadata": {
    "id": "fEXFAP4vGjuq"
   },
   "source": [
    "# **Method:1**"
   ]
  },
  {
   "cell_type": "code",
   "metadata": {
    "colab": {
     "base_uri": "https://localhost:8080/"
    },
    "id": "bve_3HtyGcdL",
    "outputId": "9b23a267-edcb-412b-dd7e-133b1eedf00b"
   },
   "source": [
    "# upload file from local drive and open it for reading (NOTEEVENTS file)\n",
    "# read the uploaded file in a dataframe\n",
    "# Use the correct filename: 'NOTEEVENTS.csv.gz' and specify compression as 'gzip'\n",
    "noteevents_df = pd.read_csv(_notes_csv, compression='gzip', low_memory=False)"
   ],
   "outputs": [],
   "execution_count": null
  },
  {
   "cell_type": "code",
   "metadata": {
    "id": "MzMIKwz1l4Pm",
    "colab": {
     "base_uri": "https://localhost:8080/",
     "height": 52
    },
    "outputId": "480e8370-71b3-4fe0-913b-907216f5560a"
   },
   "source": [
    "'''\n",
    "from google.colab import drive\n",
    "drive.mount('/content/drive')\n",
    "\n",
    "!cp \"/content/drive/MyDrive/NOTEEVENTS.csv\" .\n",
    "noteevents_df = pd.read_csv('/content/NOTEEVENTS.csv')\n",
    "noteevents_df.info()\n",
    "noteevents_df.iloc[0]\n",
    "'''"
   ],
   "outputs": [],
   "execution_count": null
  },
  {
   "cell_type": "markdown",
   "metadata": {
    "id": "cIirbEIhGgc2"
   },
   "source": [
    "# **Method:2**"
   ]
  },
  {
   "cell_type": "code",
   "metadata": {
    "colab": {
     "base_uri": "https://localhost:8080/",
     "height": 742
    },
    "id": "UbarFU651RSV",
    "outputId": "0d35f8f3-defc-4a1a-907f-badb914f7768"
   },
   "source": [
    "noteevents_df = pd.read_csv(_notes_csv, low_memory=False)\n",
    "noteevents_df.info()\n",
    "noteevents_df.iloc[0]"
   ],
   "outputs": [],
   "execution_count": null
  },
  {
   "cell_type": "markdown",
   "metadata": {
    "id": "g_5e6MZiGrju"
   },
   "source": [
    "# **Filter the data in files to create a new relevant dataframe**\n",
    "\n"
   ]
  },
  {
   "cell_type": "code",
   "metadata": {
    "id": "pTnF_WNtMv_A",
    "ExecuteTime": {
     "end_time": "2025-02-24T18:43:47.034947Z",
     "start_time": "2025-02-24T18:43:47.031791Z"
    }
   },
   "source": [
    "# Add the import statement at the beginning of the cell where 'pd' is used.\n",
    "import pandas as pd # Import the pandas library and assign it to the alias 'pd'\n",
    "\n",
    "icd9_V4511_patients_discharge_summary_df = pd.DataFrame(columns=['SUBJECT_ID', 'CATEGORY', 'DESCRIPTION', 'TEXT'])\n",
    "patients_dict = {\"SUBJECT_ID\":[],\"CATEGORY\":[], \"DESCRIPTION\":[], \"TEXT\":[]};\n",
    "\n",
    "print(icd9_V4511_patients_discharge_summary_df)\n",
    "print(f\"\\n{patients_dict}\")"
   ],
   "outputs": [
    {
     "name": "stdout",
     "output_type": "stream",
     "text": [
      "Empty DataFrame\n",
      "Columns: [SUBJECT_ID, CATEGORY, DESCRIPTION, TEXT]\n",
      "Index: []\n",
      "\n",
      "{'SUBJECT_ID': [], 'CATEGORY': [], 'DESCRIPTION': [], 'TEXT': []}\n"
     ]
    }
   ],
   "execution_count": 65
  },
  {
   "cell_type": "code",
   "metadata": {
    "id": "k8O-Ubu6_mNt",
    "ExecuteTime": {
     "end_time": "2025-02-24T18:43:58.267861Z",
     "start_time": "2025-02-24T18:43:49.005331Z"
    }
   },
   "source": [
    "for i in range(0, len(noteevents_df)):\n",
    "  if((noteevents_df.loc[i, 'SUBJECT_ID'] in arr_subject_id)):\n",
    "   patients_dict[\"SUBJECT_ID\"].append(noteevents_df.loc[i, 'SUBJECT_ID'])\n",
    "   patients_dict[\"CATEGORY\"].append(noteevents_df.loc[i, 'CATEGORY'])\n",
    "   patients_dict[\"DESCRIPTION\"].append(noteevents_df.loc[i, 'DESCRIPTION'])\n",
    "   patients_dict[\"TEXT\"].append(noteevents_df.loc[i, 'TEXT'])"
   ],
   "outputs": [],
   "execution_count": 66
  },
  {
   "cell_type": "code",
   "metadata": {
    "colab": {
     "base_uri": "https://localhost:8080/",
     "height": 89
    },
    "id": "Pjvr0SybM_vT",
    "outputId": "3335a070-fb99-4a99-f77b-852f30a71f2a"
   },
   "source": [
    "# First, execute this cell to define and populate noteevents_df. If not outputting data to screen add display(noteevents_df)\n",
    "'''\n",
    "import pandas as pd\n",
    "noteevents_df = pd.read_csv('../../data/NOTEEVENTS.csv.gz')\n",
    "noteevents_df.info()\n",
    "noteevents_df.iloc[0]\n",
    "'''\n",
    "display(noteevents_df) #If no output from before add this.\n"
   ],
   "outputs": [],
   "execution_count": null
  },
  {
   "cell_type": "code",
   "metadata": {
    "id": "EHKraa_eai0A",
    "ExecuteTime": {
     "end_time": "2025-02-24T18:44:17.430035Z",
     "start_time": "2025-02-24T18:44:08.271487Z"
    }
   },
   "source": [
    "# Then execute the cell that uses the dataframe\n",
    "for i in range(0, len(noteevents_df)):\n",
    "  if((noteevents_df.loc[i, 'SUBJECT_ID'] in arr_subject_id)):\n",
    "   patients_dict[\"SUBJECT_ID\"].append(noteevents_df.loc[i, 'SUBJECT_ID'])\n",
    "   patients_dict[\"CATEGORY\"].append(noteevents_df.loc[i, 'CATEGORY'])\n",
    "   patients_dict[\"DESCRIPTION\"].append(noteevents_df.loc[i, 'DESCRIPTION'])\n",
    "   patients_dict[\"TEXT\"].append(noteevents_df.loc[i, 'TEXT'])"
   ],
   "outputs": [],
   "execution_count": 67
  },
  {
   "cell_type": "code",
   "metadata": {
    "id": "w-4jeq2nN6oy",
    "ExecuteTime": {
     "end_time": "2025-02-24T18:44:49.118471Z",
     "start_time": "2025-02-24T18:44:20.835432Z"
    }
   },
   "source": [
    "# Make sure to run the cell where you create and populate arr_subject_id first.\n",
    "# For example, the code below likely created it:\n",
    "arr_subject_id=[]\n",
    "arr_hadm_id=[]\n",
    "for row in range(0, len(diagnoses_icd_df)):\n",
    "  if(diagnoses_icd_df.loc[row, 'icd9_code']=='99591'): #V4511 = Comma\n",
    "    arr_subject_id.append(diagnoses_icd_df.loc[row, 'subject_id'])\n",
    "\n",
    "\n",
    "# Then execute the cell that uses the dataframe\n",
    "for i in range(0, len(noteevents_df)):\n",
    "  if((noteevents_df.loc[i, 'SUBJECT_ID'] in arr_subject_id)):\n",
    "   patients_dict[\"SUBJECT_ID\"].append(noteevents_df.loc[i, 'SUBJECT_ID'])\n",
    "   patients_dict[\"CATEGORY\"].append(noteevents_df.loc[i, 'CATEGORY'])\n",
    "   patients_dict[\"DESCRIPTION\"].append(noteevents_df.loc[i, 'DESCRIPTION'])\n",
    "   patients_dict[\"TEXT\"].append(noteevents_df.loc[i, 'TEXT'])"
   ],
   "outputs": [],
   "execution_count": 68
  },
  {
   "cell_type": "code",
   "metadata": {
    "id": "2C7J3kVrFlVC",
    "ExecuteTime": {
     "end_time": "2025-02-24T18:44:49.221772Z",
     "start_time": "2025-02-24T18:44:49.121366Z"
    }
   },
   "source": [
    "patients_df = pd.DataFrame(patients_dict)"
   ],
   "outputs": [],
   "execution_count": 69
  },
  {
   "cell_type": "markdown",
   "metadata": {
    "id": "Jr-ElsfDCka6"
   },
   "source": "# **Download the created dataframe (whole or a part of it)**"
  },
  {
   "cell_type": "code",
   "metadata": {
    "colab": {
     "base_uri": "https://localhost:8080/",
     "height": 139
    },
    "id": "do7zvoEaAmC_",
    "outputId": "9adc36dd-b50b-45fc-b5e1-fb8bd518eb35",
    "ExecuteTime": {
     "end_time": "2025-02-24T18:46:07.733716Z",
     "start_time": "2025-02-24T18:46:07.728487Z"
    }
   },
   "source": [
    "# to keep only certain (say for eg. 10) number of rows of a dataframe\n",
    "patients_df[:100]  # this will fetch the top 100 rows\n",
    "\n",
    "patients_df[-100:] # this will fetch the last 100 rows\n",
    "\n",
    "patients_df[-10:] # this will fetch the last 10 rows\n",
    "\n",
    "patients_df[::] # this will fetch all the rows"
   ],
   "outputs": [
    {
     "data": {
      "text/plain": [
       "        SUBJECT_ID           CATEGORY                       DESCRIPTION  \\\n",
       "0            29355  Discharge summary                            Report   \n",
       "1             6391  Discharge summary                            Report   \n",
       "2            88857  Discharge summary                            Report   \n",
       "3            88857  Discharge summary                            Report   \n",
       "4            88857  Discharge summary                            Report   \n",
       "...            ...                ...                               ...   \n",
       "117936       76418         Physician   Physician Resident Progress Note   \n",
       "117937       76418         Physician   Physician Resident Progress Note   \n",
       "117938       73713         Physician   Physician Resident Progress Note   \n",
       "117939       73713         Physician   Physician Resident Progress Note   \n",
       "117940       73713         Physician   Physician Resident Progress Note   \n",
       "\n",
       "                                                     TEXT  \n",
       "0       Admission Date:  [**2154-7-2**]              D...  \n",
       "1       Admission Date:  [**2170-5-7**]              D...  \n",
       "2       Admission Date:  [**2109-7-26**]              ...  \n",
       "3       Admission Date:  [**2109-9-30**]              ...  \n",
       "4       Admission Date:  [**2109-10-30**]             ...  \n",
       "...                                                   ...  \n",
       "117936  Chief Complaint: delirium, GI blood loss anemi...  \n",
       "117937  Chief Complaint: delirium, GI blood loss anemi...  \n",
       "117938  TITLE:\\n   Chief Complaint:\\n   24 Hour Events...  \n",
       "117939  TITLE:\\n   Chief Complaint:\\n   24 Hour Events...  \n",
       "117940  TITLE:\\n   Chief Complaint:\\n   24 Hour Events...  \n",
       "\n",
       "[117941 rows x 4 columns]"
      ],
      "text/html": [
       "<div>\n",
       "<style scoped>\n",
       "    .dataframe tbody tr th:only-of-type {\n",
       "        vertical-align: middle;\n",
       "    }\n",
       "\n",
       "    .dataframe tbody tr th {\n",
       "        vertical-align: top;\n",
       "    }\n",
       "\n",
       "    .dataframe thead th {\n",
       "        text-align: right;\n",
       "    }\n",
       "</style>\n",
       "<table border=\"1\" class=\"dataframe\">\n",
       "  <thead>\n",
       "    <tr style=\"text-align: right;\">\n",
       "      <th></th>\n",
       "      <th>SUBJECT_ID</th>\n",
       "      <th>CATEGORY</th>\n",
       "      <th>DESCRIPTION</th>\n",
       "      <th>TEXT</th>\n",
       "    </tr>\n",
       "  </thead>\n",
       "  <tbody>\n",
       "    <tr>\n",
       "      <th>0</th>\n",
       "      <td>29355</td>\n",
       "      <td>Discharge summary</td>\n",
       "      <td>Report</td>\n",
       "      <td>Admission Date:  [**2154-7-2**]              D...</td>\n",
       "    </tr>\n",
       "    <tr>\n",
       "      <th>1</th>\n",
       "      <td>6391</td>\n",
       "      <td>Discharge summary</td>\n",
       "      <td>Report</td>\n",
       "      <td>Admission Date:  [**2170-5-7**]              D...</td>\n",
       "    </tr>\n",
       "    <tr>\n",
       "      <th>2</th>\n",
       "      <td>88857</td>\n",
       "      <td>Discharge summary</td>\n",
       "      <td>Report</td>\n",
       "      <td>Admission Date:  [**2109-7-26**]              ...</td>\n",
       "    </tr>\n",
       "    <tr>\n",
       "      <th>3</th>\n",
       "      <td>88857</td>\n",
       "      <td>Discharge summary</td>\n",
       "      <td>Report</td>\n",
       "      <td>Admission Date:  [**2109-9-30**]              ...</td>\n",
       "    </tr>\n",
       "    <tr>\n",
       "      <th>4</th>\n",
       "      <td>88857</td>\n",
       "      <td>Discharge summary</td>\n",
       "      <td>Report</td>\n",
       "      <td>Admission Date:  [**2109-10-30**]             ...</td>\n",
       "    </tr>\n",
       "    <tr>\n",
       "      <th>...</th>\n",
       "      <td>...</td>\n",
       "      <td>...</td>\n",
       "      <td>...</td>\n",
       "      <td>...</td>\n",
       "    </tr>\n",
       "    <tr>\n",
       "      <th>117936</th>\n",
       "      <td>76418</td>\n",
       "      <td>Physician</td>\n",
       "      <td>Physician Resident Progress Note</td>\n",
       "      <td>Chief Complaint: delirium, GI blood loss anemi...</td>\n",
       "    </tr>\n",
       "    <tr>\n",
       "      <th>117937</th>\n",
       "      <td>76418</td>\n",
       "      <td>Physician</td>\n",
       "      <td>Physician Resident Progress Note</td>\n",
       "      <td>Chief Complaint: delirium, GI blood loss anemi...</td>\n",
       "    </tr>\n",
       "    <tr>\n",
       "      <th>117938</th>\n",
       "      <td>73713</td>\n",
       "      <td>Physician</td>\n",
       "      <td>Physician Resident Progress Note</td>\n",
       "      <td>TITLE:\\n   Chief Complaint:\\n   24 Hour Events...</td>\n",
       "    </tr>\n",
       "    <tr>\n",
       "      <th>117939</th>\n",
       "      <td>73713</td>\n",
       "      <td>Physician</td>\n",
       "      <td>Physician Resident Progress Note</td>\n",
       "      <td>TITLE:\\n   Chief Complaint:\\n   24 Hour Events...</td>\n",
       "    </tr>\n",
       "    <tr>\n",
       "      <th>117940</th>\n",
       "      <td>73713</td>\n",
       "      <td>Physician</td>\n",
       "      <td>Physician Resident Progress Note</td>\n",
       "      <td>TITLE:\\n   Chief Complaint:\\n   24 Hour Events...</td>\n",
       "    </tr>\n",
       "  </tbody>\n",
       "</table>\n",
       "<p>117941 rows × 4 columns</p>\n",
       "</div>"
      ]
     },
     "execution_count": 72,
     "metadata": {},
     "output_type": "execute_result"
    }
   ],
   "execution_count": 72
  },
  {
   "cell_type": "code",
   "metadata": {
    "colab": {
     "base_uri": "https://localhost:8080/",
     "height": 53
    },
    "id": "sQ3yKRSBSD8o",
    "outputId": "45125af2-306e-4ebb-a258-91b22c89dcea"
   },
   "source": [
    "import pandas as pd\n",
    "# ... (other code to create patients_dict) ...\n",
    "\n",
    "# Create the DataFrame\n",
    "patients_df = pd.DataFrame(patients_dict)\n",
    "\n",
    "# Now you can access it\n",
    "# to keep only certain (say for eg. 10) number of rows of a dataframe\n",
    "patients_df[:10]  # this will fetch the top 10 rows\n",
    "\n",
    "patients_df[-10:] # this will fetch the last 10 rows"
   ],
   "outputs": [],
   "execution_count": null
  },
  {
   "cell_type": "code",
   "metadata": {
    "colab": {
     "base_uri": "https://localhost:8080/",
     "height": 747
    },
    "id": "mXFuG13-SQCn",
    "outputId": "62e5db08-ec21-4bf2-8342-0093682cc4c0"
   },
   "source": [
    "from matplotlib import pyplot as plt\n",
    "import seaborn as sns\n",
    "def _plot_series(series, series_name, series_index=0):\n",
    "  palette = list(sns.palettes.mpl_palette('Dark2'))\n",
    "  counted = (series['index']\n",
    "                .value_counts()\n",
    "              .reset_index(name='counts')\n",
    "              .rename({'index': 'index'}, axis=1)\n",
    "              .sort_values('index', ascending=True))\n",
    "  xs = counted['index']\n",
    "  ys = counted['counts']\n",
    "  plt.plot(xs, ys, label=series_name, color=palette[series_index % len(palette)])\n",
    "\n",
    "fig, ax = plt.subplots(figsize=(10, 5.2), layout='constrained')\n",
    "df_sorted = _df_0.sort_values('index', ascending=True)\n",
    "#df_sorted = patients_df.sort_values('index', ascending=True)\n",
    "_plot_series(df_sorted, '')\n",
    "sns.despine(fig=fig, ax=ax)\n",
    "plt.xlabel('index')\n",
    "_ = plt.ylabel('count()')"
   ],
   "outputs": [],
   "execution_count": null
  },
  {
   "cell_type": "code",
   "metadata": {
    "id": "1HXZkeroF49u"
   },
   "source": [
    "#if you using Macbook or Linux based systems download the patients_df dataframe in .csv format\n",
    "patients_df.to_csv(r'ICD9-V4511_Patients_DischargeSummary.csv', index = False)\n",
    "\n",
    "#from google.colab import files\n",
    "#files.download('ICD9-V4511_Patients_DischargeSummary.csv')\n",
    "\n",
    "# if you want to download only the top 10 of the patients_df dataframe rows as a csv file do the following\n",
    "#patients_df[:10].to_csv(r'ICD9-V4511_Patients_DischargeSummary.csv', index = False)"
   ],
   "outputs": [],
   "execution_count": null
  },
  {
   "cell_type": "code",
   "metadata": {
    "id": "YXJ4PjwAAAvo"
   },
   "source": [
    "#if you are using a Windows based system download the patients_df dataframe in excel format\n",
    "patients_df.to_excel(\"ICD9-430_Patients_DischargeSummary.xlsx\")\n",
    "# if you want to download only the top 10 of the patients_df dataframe rows as a csv file do the following\n",
    "patients_df[:10].to_excel(\"ICD9-430_Patients_DischargeSummary.xlsx\")"
   ],
   "outputs": [],
   "execution_count": null
  },
  {
   "cell_type": "code",
   "metadata": {
    "colab": {
     "base_uri": "https://localhost:8080/"
    },
    "id": "n_3MaNLRmH2k",
    "outputId": "3309e937-9143-4733-fac3-50a121e4f20d"
   },
   "source": [
    "noteevents_df['CATEGORY'].unique()"
   ],
   "outputs": [],
   "execution_count": null
  },
  {
   "cell_type": "code",
   "metadata": {
    "colab": {
     "base_uri": "https://localhost:8080/"
    },
    "id": "ZfbgXjtcmJUy",
    "outputId": "f4058743-0ac6-4eaf-d9d8-7c67404bf893"
   },
   "source": [
    "len(noteevents_df[noteevents_df['CATEGORY'] == 'Discharge summary'])"
   ],
   "outputs": [],
   "execution_count": null
  },
  {
   "cell_type": "code",
   "metadata": {
    "colab": {
     "base_uri": "https://localhost:8080/"
    },
    "id": "xPIUj-2lne4Z",
    "outputId": "19c56ece-aabe-47ea-d783-c44bc8f07171"
   },
   "source": [
    "len(noteevents_df['CATEGORY'] == 'Echo')"
   ],
   "outputs": [],
   "execution_count": null
  },
  {
   "cell_type": "code",
   "metadata": {
    "colab": {
     "base_uri": "https://localhost:8080/",
     "height": 424
    },
    "id": "CH5yvhjymH5e",
    "outputId": "0edb81d1-94e7-4da9-9ad2-915816e1209b"
   },
   "source": [
    "diagnoses_df = pd.read_csv(_diagnoses_csv, compression='gzip')\n",
    "diagnoses_df"
   ],
   "outputs": [],
   "execution_count": null
  },
  {
   "cell_type": "code",
   "metadata": {
    "colab": {
     "base_uri": "https://localhost:8080/",
     "height": 791
    },
    "id": "509ZYBaRGUrd",
    "outputId": "07541a31-9c0b-450c-e838-42cbe32710de"
   },
   "source": [
    "admission_df = pd.read_csv(_admission_csv, compression='gzip')\n",
    "admission_df"
   ],
   "outputs": [],
   "execution_count": null
  },
  {
   "cell_type": "code",
   "metadata": {
    "colab": {
     "base_uri": "https://localhost:8080/",
     "height": 424
    },
    "id": "ayfFdMYRGf07",
    "outputId": "75697b2e-56a1-4816-caae-d82cf831e3f0"
   },
   "source": [
    "patient_df = pd.read_csv(_patient_csv, compression='gzip')\n",
    "patient_df"
   ],
   "outputs": [],
   "execution_count": null
  },
  {
   "cell_type": "code",
   "metadata": {
    "colab": {
     "base_uri": "https://localhost:8080/",
     "height": 459
    },
    "id": "u2cB896sGrAz",
    "outputId": "f9f23857-2564-4c9a-b98d-7b67fdc5e619"
   },
   "source": [
    "notes_df = pd.read_csv(_notes_csv, compression='gzip', low_memory=False)\n",
    "notes_df"
   ],
   "outputs": [],
   "execution_count": null
  },
  {
   "cell_type": "code",
   "metadata": {
    "colab": {
     "base_uri": "https://localhost:8080/"
    },
    "id": "DaizVM1fG7ua",
    "outputId": "913866da-af4c-40b0-8ba5-63909e88b771"
   },
   "source": [
    "cardio_codes = ['410']  # Myocardial infarction, Hypertension #'401'\n",
    "neuro_codes = ['434']  # Stroke, Epilepsy #'345'\n",
    "\n",
    "# Filter the dataset for these codes\n",
    "cardio_df = diagnoses_df[diagnoses_df['ICD9_CODE'].astype(str).str.startswith(tuple(cardio_codes))]\n",
    "neuro_df = diagnoses_df[diagnoses_df['ICD9_CODE'].astype(str).str.startswith(tuple(neuro_codes))]\n",
    "\n",
    "# Combine both datasets\n",
    "filtered_df = pd.concat([cardio_df, neuro_df])\n",
    "\n",
    "# Display the result\n",
    "print(filtered_df.head())"
   ],
   "outputs": [],
   "execution_count": null
  },
  {
   "cell_type": "code",
   "metadata": {
    "colab": {
     "base_uri": "https://localhost:8080/"
    },
    "id": "GhIR-6bIHa9A",
    "outputId": "09f8abfd-d06f-4889-fd60-e17f1073bd26"
   },
   "source": [
    "# Load clinical notes\n",
    "#notes_df = pd.read_csv(\"NOTEEVENTS.csv\")\n",
    "\n",
    "# Merge with filtered diagnoses to get relevant notes\n",
    "notes_filtered_df = filtered_df.merge(notes_df, on=\"SUBJECT_ID\", how=\"left\")\n",
    "\n",
    "# Display some notes\n",
    "print(notes_filtered_df[['TEXT']].head())\n",
    "\n",
    "new = notes_filtered_df[notes_filtered_df['CATEGORY'] == 'Discharge summary']\n",
    "len(new)"
   ],
   "outputs": [],
   "execution_count": null
  },
  {
   "cell_type": "code",
   "metadata": {
    "colab": {
     "base_uri": "https://localhost:8080/"
    },
    "id": "X7Z2hJviJn19",
    "outputId": "a15d3a71-be3c-4ddf-fefa-7d230a42103c"
   },
   "source": [
    "new = notes_filtered_df[notes_filtered_df['CATEGORY'] == 'Radiology']\n",
    "len(new)"
   ],
   "outputs": [],
   "execution_count": null
  },
  {
   "cell_type": "code",
   "metadata": {
    "colab": {
     "base_uri": "https://localhost:8080/"
    },
    "id": "twux58DFJUQw",
    "outputId": "e6532d2f-d41b-41dd-daad-965288c3cc6a"
   },
   "source": [
    "len(new)"
   ],
   "outputs": [],
   "execution_count": null
  },
  {
   "cell_type": "code",
   "metadata": {
    "id": "lF7CNLbhI0Dz"
   },
   "source": [
    "import spacy"
   ],
   "outputs": [],
   "execution_count": null
  },
  {
   "cell_type": "code",
   "metadata": {
    "id": "Mdn1V48gI5yx"
   },
   "source": [
    "nlp = spacy.load(\"en_core_web_sm\")\n"
   ],
   "outputs": [],
   "execution_count": null
  },
  {
   "cell_type": "code",
   "metadata": {
    "id": "tcwVYnIOIAwH"
   },
   "source": [
    "def extract_entities (text):\n",
    "  doc = nlp(text)\n",
    "  return [(ent.text, ent.label_) for ent in doc.ents]\n"
   ],
   "outputs": [],
   "execution_count": null
  },
  {
   "cell_type": "code",
   "metadata": {
    "colab": {
     "background_save": true,
     "base_uri": "https://localhost:8080/"
    },
    "id": "5UQUM-23IiuV",
    "outputId": "fb69ff76-299a-4a86-95f5-68c7d3e0a19c"
   },
   "source": [
    "for _, row in new.iterrows():\n",
    "  text = row['TEXT']\n",
    "  entities = extract_entities(text)\n",
    "  doc = nlp(text)\n",
    "  for entity, label in entities:\n",
    "    print(f\"Entity: {entity}, Label: {label}\")\n",
    "  print('*'*100)"
   ],
   "outputs": [],
   "execution_count": null
  },
  {
   "cell_type": "code",
   "metadata": {
    "id": "aXZedKylKyMW"
   },
   "source": [
    "# Entity Visualizer :\n",
    "from spacy import displacy\n",
    "for i in range(len(doc)):\n",
    "  displacy.render(doc[i], style='ent', jupyter=True)\n",
    "  print('*'*100)"
   ],
   "outputs": [],
   "execution_count": null
  }
 ],
 "metadata": {
  "colab": {
   "gpuType": "T4",
   "provenance": [],
   "collapsed_sections": [
    "cIirbEIhGgc2"
   ]
  },
  "kernelspec": {
   "display_name": "Python 3 (ipykernel)",
   "name": "python3",
   "language": "python"
  }
 },
 "nbformat": 4,
 "nbformat_minor": 0
}
