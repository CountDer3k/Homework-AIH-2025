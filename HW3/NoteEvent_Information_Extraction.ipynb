{
 "cells": [
  {
   "metadata": {},
   "cell_type": "markdown",
   "source": "# This will extract to a csv file every note that is related to ICD-9 code 314.01 (ADHD).",
   "id": "c97d3777c45386a2"
  },
  {
   "metadata": {},
   "cell_type": "code",
   "source": [
    "import pandas as pd\n",
    "\n",
    "# Prepare all the data that will be used\n",
    "_discharge_summary_csv = 'ICD9-V4511_Patients_DischargeSummary.csv.gz'\n",
    "_diagnoses_csv = '../data/zipped/DIAGNOSES_ICD.csv.gz'\n",
    "_notes_csv = '../data/zipped/NOTEEVENTS.csv.gz'\n",
    "_admission_csv = '../data/zipped/ADMISSIONS.csv.gz'\n",
    "_patient_csv = '../data/zipped/PATIENTS.csv.gz'\n",
    "_icd9_code = '31401' # (ADHD ICD-9 Code)"
   ],
   "id": "8935749b1a1aade",
   "outputs": [],
   "execution_count": null
  },
  {
   "metadata": {
    "ExecuteTime": {
     "end_time": "2025-03-04T00:05:19.657490Z",
     "start_time": "2025-03-04T00:04:49.071030Z"
    }
   },
   "cell_type": "code",
   "source": [
    "# Load the data\n",
    "diagnoses_icd_df = pd.read_csv(_diagnoses_csv, compression='gzip')\n",
    "noteevents_df = pd.read_csv(_notes_csv, low_memory=False)\n",
    "\n",
    "# Clean up column names\n",
    "diagnoses_icd_df.columns = diagnoses_icd_df.columns.str.strip().lower()\n",
    "diagnoses_icd_df.columns = diagnoses_icd_df.columns.str.lower()\n",
    "noteevents_df.columns = noteevents_df.columns.str.strip()\n",
    "noteevents_df.columns = noteevents_df.columns.str.lower()\n",
    "\n",
    "# 1. Filter all diagnoses that are related to ADHD\n",
    "filtered_df = diagnoses_icd_df.loc[diagnoses_icd_df[\"icd9_code\"] == _icd9_code]\n",
    "\n",
    "# 2. Filter all notes for patients whose diagnoses are related to ADHD\n",
    "arr_subject_id = filtered_df[\"subject_id\"].tolist()\n",
    "f_adhd_df = noteevents_df.loc[noteevents_df['subject_id'].isin(arr_subject_id)]\n",
    "\n",
    "# 3 .Remove all the columns that are not needed\n",
    "notes_col = [\"subject_id\", \"category\", \"description\", \"text\"];\n",
    "notes_df = f_adhd_df[notes_col]\n",
    "\n",
    "print(len(f_adhd_df))\n",
    "print(len(notes_df))"
   ],
   "id": "d90da1a43fda8fb6",
   "outputs": [
    {
     "name": "stdout",
     "output_type": "stream",
     "text": [
      "4325\n",
      "4325\n"
     ]
    }
   ],
   "execution_count": 35
  },
  {
   "metadata": {},
   "cell_type": "code",
   "source": [
    "# Display small group (10 entries)\n",
    "#display(notes_df[:10])\n",
    "notes_df[:10]"
   ],
   "id": "409f1a58102dffda",
   "outputs": [],
   "execution_count": null
  },
  {
   "metadata": {},
   "cell_type": "code",
   "source": [
    "# Display medium group (100 entries)\n",
    "notes_df[:100]"
   ],
   "id": "f96b4fc19415656f",
   "outputs": [],
   "execution_count": null
  },
  {
   "metadata": {},
   "cell_type": "code",
   "source": [
    "# Display large group (all entries)\n",
    "notes_df[::]"
   ],
   "id": "68a60b508cbe9a86",
   "outputs": [],
   "execution_count": null
  }
 ],
 "metadata": {
  "kernelspec": {
   "display_name": "Python 3",
   "language": "python",
   "name": "python3"
  },
  "language_info": {
   "codemirror_mode": {
    "name": "ipython",
    "version": 2
   },
   "file_extension": ".py",
   "mimetype": "text/x-python",
   "name": "python",
   "nbconvert_exporter": "python",
   "pygments_lexer": "ipython2",
   "version": "2.7.6"
  }
 },
 "nbformat": 4,
 "nbformat_minor": 5
}
