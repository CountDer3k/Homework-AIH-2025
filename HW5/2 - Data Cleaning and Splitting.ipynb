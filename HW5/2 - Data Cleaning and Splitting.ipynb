{
 "cells": [
  {
   "metadata": {
    "ExecuteTime": {
     "end_time": "2025-03-31T20:08:49.852766Z",
     "start_time": "2025-03-31T20:08:49.850522Z"
    }
   },
   "cell_type": "code",
   "source": [
    "import pandas as pd\n",
    "from sklearn.model_selection import train_test_split\n",
    "from sklearn.ensemble import RandomForestClassifier\n",
    "from sklearn.metrics import accuracy_score\n",
    "\n",
    "def load_and_split_data(file_path, is_dropping_diagnosis):\n",
    "    patients = pd.read_csv(file_path, low_memory=False)\n",
    "\n",
    "    if is_dropping_diagnosis:\n",
    "        patients = patients.drop(columns=['diagnosis'])\n",
    "\n",
    "    # categories = ['gender', 'admission_type', 'insurance', 'language', 'value', 'religion', 'marital_status', 'ethnicity',  'valueuom', 'flag', 'label', 'fluid', 'category']\n",
    "    # one_hot_df = pd.get_dummies(patients[categories], drop_first=True)\n",
    "    #\n",
    "    # # Drop categorical columns\n",
    "    # patients_numericals = patients.drop(columns=categories)\n",
    "    #\n",
    "    # # # Combine the numerical and one hot encoded dataframes\n",
    "    # patients_enc = pd.concat([patients_numericals, one_hot_df], axis=1)\n",
    "    #\n",
    "    # # shuffle dataset\n",
    "    # patients_enc = patients_enc.sample(frac=1, random_state=42).reset_index(drop=True)\n",
    "    patients_enc = pd.get_dummies(patients)\n",
    "\n",
    "    X = patients_enc.drop(columns='has_apnea')\n",
    "    y = patients_enc['has_apnea']\n",
    "\n",
    "    # Split the data into training and testing sets\n",
    "    X_train, X_test, y_train, y_test = train_test_split(X, y, test_size=0.4, random_state=42)\n",
    "\n",
    "    return X_train, X_test, y_train, y_test"
   ],
   "id": "353a5c3d556d3bf1",
   "outputs": [],
   "execution_count": 26
  },
  {
   "metadata": {},
   "cell_type": "markdown",
   "source": "# Random Forest Classifier",
   "id": "4c4ba70f5983c0b1"
  },
  {
   "metadata": {
    "ExecuteTime": {
     "end_time": "2025-03-31T20:11:12.930319Z",
     "start_time": "2025-03-31T20:08:52.306684Z"
    }
   },
   "cell_type": "code",
   "source": [
    "# Import the necessary libraries\n",
    "from sklearn.ensemble import RandomForestClassifier\n",
    "from sklearn.metrics import accuracy_score\n",
    "import matplotlib.pyplot as plt\n",
    "\n",
    "def run_model(X_train, X_test, y_train, y_test, title):\n",
    "    clf = RandomForestClassifier()\n",
    "\n",
    "    # Train the classifier\n",
    "    clf.fit(X_train, y_train)\n",
    "\n",
    "    # Make predictions\n",
    "    y_pred = clf.predict(X_test)\n",
    "\n",
    "    # Calculate the accuracy\n",
    "    accuracy = accuracy_score(y_test, y_pred)\n",
    "    print(f\"Accuracy: {accuracy:.4%}\")\n",
    "\n",
    "    # Get probability predictions\n",
    "    y_proba = clf.predict_proba(X_test)[:,1]\n",
    "\n",
    "    # Plot the probabilities\n",
    "    plt.hist(y_proba, bins=20)\n",
    "    plt.title(title)\n",
    "    plt.show()\n",
    "\n",
    "\n",
    "# Run model with diagnosis column\n",
    "X_train, X_test, y_train, y_test = load_and_split_data('patient_data_apnea_mix.csv', False)\n",
    "run_model(X_train, X_test, y_train, y_test, \"Sleep Apnea \")\n",
    "\n",
    "# # Run model without diagnosis column\n",
    "# X_train, X_test, y_train, y_test = load_and_split_data('patient_data_apnea_mix.csv', True)\n",
    "# run_model(X_train, X_test, y_train, y_test)\n"
   ],
   "id": "eda5784377b63076",
   "outputs": [
    {
     "name": "stdout",
     "output_type": "stream",
     "text": [
      "Accuracy: 99.9758%\n"
     ]
    },
    {
     "data": {
      "text/plain": [
       "<Figure size 640x480 with 1 Axes>"
      ],
      "image/png": "[encoded data removed]"
     },
     "metadata": {},
     "output_type": "display_data"
    }
   ],
   "execution_count": 27
  },
  {
   "metadata": {},
   "cell_type": "markdown",
   "source": "# Find features that matter the most & graph them.",
   "id": "6db4a6d966227880"
  },
  {
   "metadata": {},
   "cell_type": "code",
   "source": [
    "# TODO: Get the feature importance's\n",
    "\n",
    "\n",
    "# TODO: Graph feature importance's\n",
    "\n",
    "# TODO: Consider dropping features that are not important\n",
    "    # TODO: and retrain the model (see if accuracy improves)\n",
    "\n",
    "# TODO: Consider clustering the data to see if there are any patterns"
   ],
   "id": "1f63bc6eddf2a99d",
   "outputs": [],
   "execution_count": null
  }
 ],
 "metadata": {
  "kernelspec": {
   "display_name": "Python 3",
   "language": "python",
   "name": "python3"
  },
  "language_info": {
   "codemirror_mode": {
    "name": "ipython",
    "version": 2
   },
   "file_extension": ".py",
   "mimetype": "text/x-python",
   "name": "python",
   "nbconvert_exporter": "python",
   "pygments_lexer": "ipython2",
   "version": "2.7.6"
  }
 },
 "nbformat": 4,
 "nbformat_minor": 5
}
