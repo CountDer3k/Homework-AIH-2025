{
 "cells": [
  {
   "metadata": {},
   "cell_type": "markdown",
   "source": "# Prelaod All data (CSV files)",
   "id": "5d3ce00ec286fcfe"
  },
  {
   "metadata": {
    "collapsed": true,
    "ExecuteTime": {
     "end_time": "2025-04-01T01:03:41.449571Z",
     "start_time": "2025-04-01T01:03:29.419263Z"
    }
   },
   "cell_type": "code",
   "source": [
    "import pandas as pd\n",
    "from datetime import datetime\n",
    "\n",
    "# hide warnings\n",
    "import warnings\n",
    "warnings.filterwarnings('ignore')\n",
    "\n",
    "# Prepare all the data that will be used\n",
    "_icd9_code = '32723' # (Slee Apnea ICD-9 Code)\n",
    "_admissions_csv = 'data/ADMISSIONS.csv.gz'\n",
    "_diagnoses_csv = 'data/DIAGNOSES_ICD.csv.gz'\n",
    "_patient_csv = 'data/PATIENTS.csv.gz'\n",
    "_labevents = 'data/LABEVENTS.csv.gz'\n",
    "_labitems = 'data/D_LABITEMS.csv.gz'\n",
    "\n",
    "# Load Data\n",
    "admissions_df = pd.read_csv(_admissions_csv, compression='gzip')\n",
    "diagnoses_icd_df = pd.read_csv(_diagnoses_csv, compression='gzip')\n",
    "patient_df = pd.read_csv(_patient_csv, compression='gzip')\n",
    "labevents_df = pd.read_csv(_labevents, compression='gzip')\n",
    "labitems_df = pd.read_csv(_labitems, compression='gzip')\n",
    "\n",
    "# Clean column names (lower case & strip whitespace)\n",
    "admissions_df.columns = admissions_df.columns.str.strip()\n",
    "admissions_df.columns = admissions_df.columns.str.lower()\n",
    "diagnoses_icd_df.columns = diagnoses_icd_df.columns.str.strip()\n",
    "diagnoses_icd_df.columns = diagnoses_icd_df.columns.str.lower()\n",
    "patient_df.columns = patient_df.columns.str.strip()\n",
    "patient_df.columns = patient_df.columns.str.lower()\n",
    "labevents_df.columns = labevents_df.columns.str.strip()\n",
    "labevents_df.columns = labevents_df.columns.str.lower()\n",
    "labitems_df.columns = labitems_df.columns.str.strip()\n",
    "labitems_df.columns = labitems_df.columns.str.lower()\n",
    "\n",
    "def calculate_age(dob, dod):\n",
    "    try:\n",
    "        dob = datetime.strptime(dob.split()[0], '%Y-%m-%d')\n",
    "        dod = datetime.strptime(dod.split()[0], '%Y-%m-%d')\n",
    "        return dod.year - dob.year\n",
    "    except Exception as e:\n",
    "        pass"
   ],
   "id": "initial_id",
   "outputs": [],
   "execution_count": 2
  },
  {
   "metadata": {},
   "cell_type": "markdown",
   "source": "# Prepare the subjects with apnea data (ICD-9 Code: 32723)",
   "id": "f6f3a4b7ea0050cb"
  },
  {
   "metadata": {
    "ExecuteTime": {
     "end_time": "2025-04-01T01:04:27.732568Z",
     "start_time": "2025-04-01T01:03:41.519090Z"
    }
   },
   "cell_type": "code",
   "source": [
    "apnea_diagnoses = diagnoses_icd_df[diagnoses_icd_df[\"icd9_code\"] == _icd9_code]\n",
    "labs = pd.merge(labevents_df, labitems_df, on=\"itemid\")\n",
    "\n",
    "# Create new column for age\n",
    "patient_df['dod_final'] = patient_df['dod'].fillna(patient_df['dod_hosp']).fillna(patient_df['dod_ssn'])\n",
    "patient_df['age'] = patient_df.apply(lambda row: calculate_age(str(row['dob']), str(row['dod_final'])), axis=1)\n",
    "\n",
    "# Filter out any subject whose age is negative or over 100\n",
    "patient_age = patient_df[(patient_df['age'] > 0) & (patient_df['age'] < 100)]\n",
    "\n",
    "# Combine admissions and remove unneeded columns\n",
    "patient_admission = pd.merge(patient_age, admissions_df, on=\"subject_id\")\n",
    "patient_admission = patient_admission.drop(columns=['row_id_x', 'row_id_y', 'expire_flag', 'hadm_id', 'deathtime', 'admittime', 'dischtime', 'admission_location',\n",
    "                                                    'discharge_location', 'hospital_expire_flag', 'edregtime', 'edouttime', 'has_chartevents_data', 'dod',\n",
    "                                                    'dod_hosp', 'dod_ssn', 'dod_final'])\n",
    "\n",
    "# Combine patients with labs & remove unneeded columns\n",
    "patients_labs_all = pd.merge(patient_admission, labs, on=\"subject_id\")\n",
    "patients_labs_all = patients_labs_all.drop(columns=['dob', 'row_id_x', 'hadm_id', 'itemid', 'charttime', 'valuenum', 'row_id_y', 'loinc_code'])\n",
    "\n",
    "# Clean up ethnicities\n",
    "patients_labs_all['ethnicity'].replace(regex=r'^ASIAN\\D*', value='ASIAN', inplace=True)\n",
    "patients_labs_all['ethnicity'].replace(regex=r'^WHITE\\D*', value='white', inplace=True)\n",
    "patients_labs_all['ethnicity'].replace(regex=r'^HISPANIC\\D*', value='HISPANIC', inplace=True)\n",
    "patients_labs_all['ethnicity'].replace(regex=r'^BLACK\\D*', value='BLACK', inplace=True)\n",
    "patients_labs_all['ethnicity'].replace([\"UNABLE TO OBTAIN\", 'OTHER', 'PATIENT DECLINED TO ANSWER', 'UNKNOWN/NOT SPECIFIED'], value=\"Other/Unknown\", inplace=True)\n",
    "patients_labs_all['ethnicity'].loc[~patients_labs_all['ethnicity'].isin(patients_labs_all['ethnicity'].value_counts().nlargest(5).index.tolist())] = \"Other/Unknown\"\n",
    "patients_labs_all['ethnicity'].value_counts()\n",
    "\n",
    "# Drop any empty rows\n",
    "patients_labs_cleaned = patients_labs_all.dropna()\n",
    "\n",
    "# Filter out sleep apnea patients\n",
    "patients_labs_apnea = pd.merge(patients_labs_cleaned, apnea_diagnoses, on=\"subject_id\")\n",
    "patients_labs_apnea = patients_labs_apnea.drop(columns=['row_id', 'hadm_id', 'seq_num', 'icd9_code'])\n",
    "\n",
    "# patients_labs_apnea[:10] # Comment this out to avoid printing sensitive data"
   ],
   "id": "1ce56f06dc9db77",
   "outputs": [],
   "execution_count": 3
  },
  {
   "metadata": {},
   "cell_type": "markdown",
   "source": "# Get an equal amount of patients without sleep apnea for comparison",
   "id": "25e429114f0eddfa"
  },
  {
   "metadata": {
    "ExecuteTime": {
     "end_time": "2025-04-01T01:04:30.814187Z",
     "start_time": "2025-04-01T01:04:27.758392Z"
    }
   },
   "cell_type": "code",
   "source": [
    "print(f\"Total entries: {len(patients_labs_all):,}\")\n",
    "print(f\"Unique patients: {len(patients_labs_all['subject_id'].unique()):,}\\n\")\n",
    "\n",
    "apena_count = len(patients_labs_apnea['subject_id'].unique())\n",
    "print(f\"Total entries with apnea: {len(patients_labs_apnea):,}\")\n",
    "print(f\"Unique patients with apnea: {apena_count:,}\\n\")\n",
    "\n",
    "# Get the same amount of patients without sleep apnea\n",
    "unique_patients_no_apnea_ids = patients_labs_all[~patients_labs_all['subject_id'].isin(patients_labs_apnea['subject_id'])]['subject_id'].unique()\n",
    "random_patient_ids = pd.Series(unique_patients_no_apnea_ids).sample(n=apena_count, random_state=42)\n",
    "patients_without_apnea = patients_labs_all[patients_labs_all['subject_id'].isin(random_patient_ids)].copy()\n",
    "print(f\"Total entries without apnea: {len(patients_without_apnea):,}\")\n",
    "print(f\"Unique patients without apnea: {len(patients_without_apnea['subject_id'].unique()):,}\\n\")\n",
    "\n",
    "# Add has_apnea column\n",
    "patients_labs_apnea['has_apnea'] = 1\n",
    "patients_without_apnea['has_apnea'] = 0\n",
    "\n",
    "# Combine the two datasets\n",
    "combined_patients = pd.concat([patients_labs_apnea, patients_without_apnea])\n",
    "print(f\"Total entries: {len(combined_patients):,}\")\n",
    "print(f\"Unique patients: {len(combined_patients['subject_id'].unique()):,}\")"
   ],
   "id": "d982c15655a6e0db",
   "outputs": [
    {
     "name": "stdout",
     "output_type": "stream",
     "text": [
      "Total entries: 32,011,486\n",
      "Unique patients: 14,200\n",
      "\n",
      "Total entries with apnea: 5,370,629\n",
      "Unique patients with apnea: 398\n",
      "\n",
      "Total entries without apnea: 1,005,906\n",
      "Unique patients without apnea: 398\n",
      "\n",
      "Total entries: 6,376,535\n",
      "Unique patients: 796\n"
     ]
    }
   ],
   "execution_count": 4
  },
  {
   "metadata": {},
   "cell_type": "markdown",
   "source": "# Keep at most 500 entries for each subject (prevent file from being too large)",
   "id": "7a350d77f2b58cda"
  },
  {
   "metadata": {
    "ExecuteTime": {
     "end_time": "2025-04-01T01:04:31.594644Z",
     "start_time": "2025-04-01T01:04:30.851858Z"
    }
   },
   "cell_type": "code",
   "source": [
    "# Keep at most 500 entries for each subject (else file is >55GB after encoding)\n",
    "patients_final = combined_patients.groupby('subject_id').head(500)\n",
    "print(f\"count: {len(patients_final):,}\")\n",
    "print(f\"Unique patients: {len(patients_final['subject_id'].unique()):,}\")\n",
    "\n",
    "# Save file\n",
    "patients_final.to_csv('patient_data_apnea_mix.csv', index=False, header=True)"
   ],
   "id": "5bb33cd4e59ae58b",
   "outputs": [
    {
     "name": "stdout",
     "output_type": "stream",
     "text": [
      "count: 299,911\n",
      "Unique patients: 796\n"
     ]
    }
   ],
   "execution_count": 5
  },
  {
   "metadata": {},
   "cell_type": "markdown",
   "source": "# Save Data",
   "id": "59eb228c1cd0aab9"
  },
  {
   "metadata": {},
   "cell_type": "code",
   "source": [
    "\n",
    "# patients_final[:10] # Comment this out to avoid printing sensitive data"
   ],
   "id": "29516f2a414164a",
   "outputs": [],
   "execution_count": null
  }
 ],
 "metadata": {
  "kernelspec": {
   "display_name": "Python 3",
   "language": "python",
   "name": "python3"
  },
  "language_info": {
   "codemirror_mode": {
    "name": "ipython",
    "version": 2
   },
   "file_extension": ".py",
   "mimetype": "text/x-python",
   "name": "python",
   "nbconvert_exporter": "python",
   "pygments_lexer": "ipython2",
   "version": "2.7.6"
  }
 },
 "nbformat": 4,
 "nbformat_minor": 5
}
